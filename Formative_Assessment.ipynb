{
 "cells": [
  {
   "cell_type": "markdown",
   "id": "970c0e27-c694-4305-a2f0-b505c14fdc13",
   "metadata": {},
   "source": [
    "# Formative Assessment - Applied AI\n",
    "## The Knapsack Problem"
   ]
  },
  {
   "cell_type": "markdown",
   "id": "f8f165d1",
   "metadata": {},
   "source": [
    "## Executive Summary\n"
   ]
  },
  {
   "cell_type": "markdown",
   "id": "b1e8e785",
   "metadata": {},
   "source": [
    "## Introduction\n",
    "\n",
    "The Knapsack Problem is a "
   ]
  },
  {
   "cell_type": "code",
   "execution_count": 32,
   "id": "1819836a",
   "metadata": {},
   "outputs": [],
   "source": [
    "import pandas as pd\n",
    "import numpy as np"
   ]
  },
  {
   "cell_type": "code",
   "execution_count": 42,
   "id": "58f609eb",
   "metadata": {},
   "outputs": [],
   "source": [
    "df = pd.read_csv(\"knapsack_dataset.csv\")\n",
    "item_data_array = np.array(df)\n",
    "knapsack_capacity = 1500\n",
    "weights = [sublist[0] for sublist in item_data_array]\n",
    "values = [sublist[1] for sublist in item_data_array]"
   ]
  },
  {
   "cell_type": "code",
   "execution_count": null,
   "id": "8bf020c7",
   "metadata": {},
   "outputs": [],
   "source": [
    "def knapsack_value(weights, values, solution, max_weight):\n",
    "    total_weight = sum(weight * chosen for weight, chosen in zip(weights, solution))\n",
    "    total_value = sum(value * chosen for value, chosen in zip(values, solution))\n",
    "\n",
    "    if total_weight > max_weight:\n",
    "        return 0\n",
    "    return total_value\n"
   ]
  },
  {
   "cell_type": "code",
   "execution_count": null,
   "id": "445beca7",
   "metadata": {},
   "outputs": [],
   "source": [
    "def generate_random_simple_neighbour(solution):\n",
    "    neighbour = solution[:]\n",
    "    random_index = random.randint(0, len(solution) - 1)\n",
    "    neighbour[random_index] = 1 - neighbour[random_index]\n",
    "    return neighbour, random_index"
   ]
  },
  {
   "cell_type": "code",
   "execution_count": null,
   "id": "5cd0df17",
   "metadata": {},
   "outputs": [],
   "source": [
    "def inversion_operator(solution):\n",
    "    new_solution = solution[:]\n",
    "\n",
    "    index1, index2 = sorted(random.sample(range(len(solution)), 2))\n",
    "    new_solution[index1: index2+1] = reversed(new_solution[index1:index2+1])\n",
    "\n",
    "    return new_solution"
   ]
  },
  {
   "cell_type": "code",
   "execution_count": null,
   "id": "2fca49ac",
   "metadata": {},
   "outputs": [],
   "source": [
    "def opt2_operator(solution):\n",
    "    new_solution = solution[:]\n",
    "    \n",
    "    return new_solution"
   ]
  },
  {
   "cell_type": "code",
   "execution_count": null,
   "id": "229404b0",
   "metadata": {},
   "outputs": [],
   "source": [
    "def simulated_annealing(weights, values, max_weight, initial_temp, alpha, min_temp):\n",
    "\n",
    "    #initial random solution\n",
    "    current_solution = [random.randint(0,1) for _ in range(len(weights))]\n",
    "    current_value = knapsack_value(weights, values, current_solution, max_weight)\n",
    "\n",
    "    # Generate a best solution\n",
    "    best_solution = current_solution[:]\n",
    "    best_value = current_value\n",
    "\n",
    "    temperature = initial_temp\n",
    "\n",
    "    while temp > min_temp:\n",
    "        # Generate a neighbour solution\n",
    "        neighbour_solution, index = generate_random_simple_neighbour(current_solution)\n",
    "        neighbour_value = knapsack_value(neighbour_solution)\n",
    "\n",
    "        # Calculate the value change\n",
    "        delta_value = neighbour_value - current_value\n",
    "\n",
    "        if delta_value > 0 and random.uniform(0, 1) < math.exp(delta_value/temperature):\n",
    "            current_solution = neighbour_solution\n",
    "            current_value = neighbour_value\n",
    "        \n",
    "        if current_value > best_value:\n",
    "            best_solution = current_solution[:]\n",
    "            best_value = current_value\n",
    "        \n",
    "        temperature *= alpha\n",
    "    \n",
    "    return best_solution, best_value"
   ]
  },
  {
   "cell_type": "code",
   "execution_count": null,
   "id": "430e25c6",
   "metadata": {},
   "outputs": [],
   "source": [
    "def tabu_search(weights, values, max_weight, iterations, tabu_size):\n",
    "    \n",
    "    #initial random solution\n",
    "    current_solution = [random.randint(0,1) for _ in range(len(weights))]\n",
    "    current_value = knapsack_value(weights, values, current_solution, max_weight)\n",
    "\n",
    "    best_solution = current_solution\n",
    "    best_value = current_value\n",
    "\n",
    "    tabu_list = deque(maxlen = tabu_size)\n",
    "\n",
    "    for _ in range(iterations):\n",
    "\n",
    "        best_neighbour = None\n",
    "        best_neighbour_value = -1\n",
    "        best_flip_index = -1\n",
    "\n",
    "        for _ in range(len(weights)):\n",
    "            neighbour, flipped_index = generate_random_simple_neighbour(current_solution)\n",
    "\n",
    "            if flipped_index in tabu_list:\n",
    "                continue\n",
    "\n",
    "            neighbour_value = knapsack_value(weights, values, neighbour, max_weight)\n",
    "\n",
    "            if neighbour_value > best_neighbour_value:\n",
    "                best_neighbour = neighbour\n",
    "                best_neighbour_value = neighbour_value\n",
    "                best_flipped_index = flipped_index\n",
    "\n",
    "        if best_neighbour is None:\n",
    "            continue\n",
    "\n",
    "        current_solution = best_neighbour\n",
    "        current_value = best_neighbour_value\n",
    "\n",
    "        tabu_list.append(best_flipped_index)\n",
    "\n",
    "        if current_value > best_value:\n",
    "            best_solution = current_solution[:]\n",
    "            best_value = current_value"
   ]
  }
 ],
 "metadata": {
  "kernelspec": {
   "display_name": "Python 3 (ipykernel)",
   "language": "python",
   "name": "python3"
  },
  "language_info": {
   "codemirror_mode": {
    "name": "ipython",
    "version": 3
   },
   "file_extension": ".py",
   "mimetype": "text/x-python",
   "name": "python",
   "nbconvert_exporter": "python",
   "pygments_lexer": "ipython3",
   "version": "3.12.6"
  }
 },
 "nbformat": 4,
 "nbformat_minor": 5
}
